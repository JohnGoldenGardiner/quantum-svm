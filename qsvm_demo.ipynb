{
 "cells": [
  {
   "cell_type": "code",
   "execution_count": 26,
   "metadata": {},
   "outputs": [],
   "source": [
    "import numpy as np\n",
    "import matplotlib.pyplot as plt"
   ]
  },
  {
   "attachments": {},
   "cell_type": "markdown",
   "metadata": {},
   "source": [
    "# Intro\n",
    "\n",
    "This notebook demonstrates usage of the class QuantumSVM defined in\n",
    "quantum_svm.py. It uses QuantumSVM to build quantum SVMs that classify\n",
    "points in the iris dataset. QuantumSVM() sets up an SVM whose feature map\n",
    "is implemented by a parametrized quantum circuit. More precisely, each\n",
    "datapoint $\\vec{x}$ is mapped to a quantum state $U(\\vec{x})\\left|0\\right>$,\n",
    "and the kernel is given by\n",
    "$$\n",
    "K(\\vec{x}_i, \\vec{x}_j)\n",
    "=\n",
    "\\left|\n",
    "\\left<0\\right|\n",
    "U(\\vec{x}_i)^\\dag\n",
    "U(\\vec{x}_j)\n",
    "\\left|0\\right>\n",
    "\\right|^2.\n",
    "$$\n",
    "The kernel elements are computed by sampling from the probability distribution resulting from acting on $\\left|0\\right>$ with the circuit $U(\\vec{x}_i)^\\dag U(\\vec{x}_j)$. The circuit is implemented either by simulation or on a quantum computer."
   ]
  },
  {
   "attachments": {},
   "cell_type": "markdown",
   "metadata": {},
   "source": [
    "# Prepare iris data\n",
    "First we prepare the data we will be testing QuantumSVM with. We read the file `bezdekIris.data` into numpy arrays X and Y of datapoints and classifications respectively. We rescale the data to run from 0 to 1 in each dimension, then split the datapoints into training and testing data.\n",
    "\n",
    "The datapoints are in $\\mathbb{R}^4$ and the classes are `'Iris-setosa'`, `'Iris-versicolor'`, and `'Iris-virginica'`."
   ]
  },
  {
   "cell_type": "code",
   "execution_count": 35,
   "metadata": {},
   "outputs": [],
   "source": [
    "# Read iris data file\n",
    "X = []\n",
    "Y = []\n",
    "with open('bezdekIris.data') as f:\n",
    "    for line in f:\n",
    "        split_line = line.strip().split(',')\n",
    "        if split_line[-1]:\n",
    "            X.append([float(string) for string in split_line[:-1]])\n",
    "            Y.append(split_line[-1])\n",
    "X = np.array(X)\n",
    "Y = np.array(Y)\n",
    "\n",
    "# Rescale to unit interval [0, 1]\n",
    "X = (X - np.min(X, axis=0))/(np.max(X, axis=0) - np.min(X, axis=0))\n",
    "\n",
    "# Split into training and testing\n",
    "inds = list(range(X.shape[0]))\n",
    "np.random.shuffle(inds)\n",
    "X_shuffled = X[inds]\n",
    "Y_shuffled = Y[inds]\n",
    "num_train = int(0.8 * X.shape[0])\n",
    "X_train, X_test = X_shuffled[:num_train], X_shuffled[num_train:]\n",
    "Y_train, Y_test = Y_shuffled[:num_train], Y_shuffled[num_train:]"
   ]
  },
  {
   "attachments": {},
   "cell_type": "markdown",
   "metadata": {},
   "source": [
    "# Binary classification\n",
    "\n",
    "A single SVM performs a binary classification of the datapoints. The \n",
    "next few cells demonstrate using a quantum SVM to classify the datapoints\n",
    "into setosa irises and non-setosa irises."
   ]
  },
  {
   "cell_type": "code",
   "execution_count": 36,
   "metadata": {},
   "outputs": [],
   "source": [
    "from quantum_svm import QuantumSVM\n",
    "\n",
    "setosa_svm = QuantumSVM()"
   ]
  },
  {
   "attachments": {},
   "cell_type": "markdown",
   "metadata": {},
   "source": [
    "QuantumSVM builds a feature map circuit that is repeated layers of layers of $D(\\vec{x})\\, H^{\\otimes n}$ where $D$ is a unitary diagonal in the computational basis that is parametrized by datapoints $\\vec{x}\\in \\mathbb{R}^4$. The promise of a quantum SVM is that we can choose a form for the kernel that is both hard to calculate on a classical computer and potentially useful. Following [\\[Havlicek et al 2018\\]](https://arxiv.org/abs/1804.11326) we use IQP circuits, which as a class are likely hard to simulate classically.\n",
    "\n",
    "Options for customizing the feature map circuit can be passed when initiating a QuantumSVM, but the default circuit looks like the following:"
   ]
  },
  {
   "cell_type": "code",
   "execution_count": 37,
   "metadata": {},
   "outputs": [
    {
     "name": "stdout",
     "output_type": "stream",
     "text": [
      "     ┌───┐┌──────────────┐                          ┌───┐┌──────────────┐     »\n",
      "q_0: ┤ H ├┤ Rz(theta[0]) ├──■────────────────────■──┤ H ├┤ Rz(theta[0]) ├─────»\n",
      "     ├───┤├──────────────┤┌─┴─┐┌──────────────┐┌─┴─┐└───┘└──────────────┘     »\n",
      "q_1: ┤ H ├┤ Rz(theta[1]) ├┤ X ├┤ Rz(theta[4]) ├┤ X ├──■────────────────────■──»\n",
      "     ├───┤├──────────────┤└───┘└──────────────┘└───┘┌─┴─┐┌──────────────┐┌─┴─┐»\n",
      "q_2: ┤ H ├┤ Rz(theta[2]) ├──■────────────────────■──┤ X ├┤ Rz(theta[6]) ├┤ X ├»\n",
      "     ├───┤├──────────────┤┌─┴─┐┌──────────────┐┌─┴─┐├───┤├──────────────┤└───┘»\n",
      "q_3: ┤ H ├┤ Rz(theta[3]) ├┤ X ├┤ Rz(theta[5]) ├┤ X ├┤ H ├┤ Rz(theta[3]) ├─────»\n",
      "     └───┘└──────────────┘└───┘└──────────────┘└───┘└───┘└──────────────┘     »\n",
      "«                                                                              \n",
      "«q_0: ───────────────────────■────────────────────■────────────────────────────\n",
      "«     ┌───┐┌──────────────┐┌─┴─┐┌──────────────┐┌─┴─┐                          \n",
      "«q_1: ┤ H ├┤ Rz(theta[1]) ├┤ X ├┤ Rz(theta[4]) ├┤ X ├──■────────────────────■──\n",
      "«     ├───┤├──────────────┤└───┘└──────────────┘└───┘┌─┴─┐┌──────────────┐┌─┴─┐\n",
      "«q_2: ┤ H ├┤ Rz(theta[2]) ├──■────────────────────■──┤ X ├┤ Rz(theta[6]) ├┤ X ├\n",
      "«     └───┘└──────────────┘┌─┴─┐┌──────────────┐┌─┴─┐└───┘└──────────────┘└───┘\n",
      "«q_3: ─────────────────────┤ X ├┤ Rz(theta[5]) ├┤ X ├──────────────────────────\n",
      "«                          └───┘└──────────────┘└───┘                          \n"
     ]
    }
   ],
   "source": [
    "print(setosa_svm.ansatz.draw())"
   ]
  },
  {
   "attachments": {},
   "cell_type": "markdown",
   "metadata": {},
   "source": [
    "For now we are just demonstrating binary classification, in particular classification as either `'Iris-setosa'` or not. We make an array of training classifications where 1 represents `'Iris-setosa'` and -1 represents any other type of iris."
   ]
  },
  {
   "cell_type": "code",
   "execution_count": 38,
   "metadata": {},
   "outputs": [],
   "source": [
    "Y_train_setosa = np.array([1 if y == 'Iris-setosa' else -1 for y in Y_train])"
   ]
  },
  {
   "attachments": {},
   "cell_type": "markdown",
   "metadata": {},
   "source": [
    "We now fit the SVM model to training datapoints and classifications using the `train()` method of `QuantumSVM`. This might take a couple minutes."
   ]
  },
  {
   "cell_type": "code",
   "execution_count": 39,
   "metadata": {},
   "outputs": [
    {
     "name": "stdout",
     "output_type": "stream",
     "text": [
      "Job completed                                 \r"
     ]
    }
   ],
   "source": [
    "setosa_svm.train(X_train, Y_train_setosa)"
   ]
  },
  {
   "attachments": {},
   "cell_type": "markdown",
   "metadata": {},
   "source": [
    "Classifying new datapoints is done using the `predict()` method:"
   ]
  },
  {
   "cell_type": "code",
   "execution_count": 40,
   "metadata": {},
   "outputs": [
    {
     "name": "stdout",
     "output_type": "stream",
     "text": [
      "Job completed                                 \r"
     ]
    }
   ],
   "source": [
    "Y_predicted_setosa = setosa_svm.predict(X_test)"
   ]
  },
  {
   "attachments": {},
   "cell_type": "markdown",
   "metadata": {},
   "source": [
    "Finally, we test the accuracy of our setosa/non-setosa classification:"
   ]
  },
  {
   "cell_type": "code",
   "execution_count": 41,
   "metadata": {},
   "outputs": [
    {
     "name": "stdout",
     "output_type": "stream",
     "text": [
      "Classified setosa versus non-setosa with accuracy 1.0\n"
     ]
    }
   ],
   "source": [
    "Y_test_setosa = np.array([1 if y == 'Iris-setosa' else -1 for y in Y_test])\n",
    "accuracy = np.mean(Y_test_setosa == Y_predicted_setosa)\n",
    "print(f'Classified setosa versus non-setosa with accuracy {accuracy}')"
   ]
  },
  {
   "attachments": {},
   "cell_type": "markdown",
   "metadata": {},
   "source": [
    "For completeness we now build and test binary classifiers for the other two types of iris, `'Iris-versicolor'` and `'Iris-virginica'`:"
   ]
  },
  {
   "cell_type": "code",
   "execution_count": 42,
   "metadata": {},
   "outputs": [
    {
     "name": "stdout",
     "output_type": "stream",
     "text": [
      "Classified versicolor versus non-versicolor with accuracy 0.9666666666666667\n"
     ]
    }
   ],
   "source": [
    "versicolor_svm = QuantumSVM()\n",
    "\n",
    "Y_train_versicolor = np.array([1 if y == 'Iris-versicolor' else -1 for y in Y_train])\n",
    "versicolor_svm.train(X_train, Y_train_versicolor)\n",
    "\n",
    "Y_test_versicolor = np.array([1 if y == 'Iris-versicolor' else -1 for y in Y_test])\n",
    "Y_predicted_versicolor = versicolor_svm.predict(X_test)\n",
    "accuracy_versicolor = np.mean(Y_test_versicolor == Y_predicted_versicolor)\n",
    "print(f'Classified versicolor versus non-versicolor with accuracy {accuracy_versicolor}')"
   ]
  },
  {
   "cell_type": "code",
   "execution_count": 43,
   "metadata": {},
   "outputs": [
    {
     "name": "stdout",
     "output_type": "stream",
     "text": [
      "Classified virginica versus non-virginica with accuracy 0.9333333333333333\n"
     ]
    }
   ],
   "source": [
    "virginica_svm = QuantumSVM()\n",
    "\n",
    "Y_train_virginica = np.array([1 if y == 'Iris-virginica' else -1 for y in Y_train])\n",
    "virginica_svm.train(X_train, Y_train_virginica)\n",
    "\n",
    "Y_test_virginica = np.array([1 if y == 'Iris-virginica' else -1 for y in Y_test])\n",
    "Y_predicted_virginica = virginica_svm.predict(X_test)\n",
    "accuracy_virginica = np.mean(Y_test_virginica == Y_predicted_virginica)\n",
    "print(f'Classified virginica versus non-virginica with accuracy {accuracy_virginica}')"
   ]
  },
  {
   "attachments": {},
   "cell_type": "markdown",
   "metadata": {},
   "source": [
    "### Changing the feature map\n",
    "\n",
    "As mentioned above, the feature-map circuit can be customized in several ways. The feature-map depends on a choice of $D$ as well as a choice of how $D$ is\n",
    "parametrized by datapoints. QuantumSVM has default choices for these two that can be changed using the `diagonal_gates=` and `parameter_map=` options respectively when initializing the QuantumSVM.\n",
    "\n",
    "The user can also change the number of qubits in the circuit using `num_qubits=`. The default number of qubits is 4.\n",
    "\n",
    "Finally, we can increase or decrease the number of layers of $D(\\vec{x})\\,\\,H^{\\otimes n}$ using the `num_layers=` keyword argument. We demonstrate this in the next cell by building two versicolor classifiers with different numbers of layers."
   ]
  },
  {
   "cell_type": "code",
   "execution_count": 48,
   "metadata": {},
   "outputs": [
    {
     "name": "stdout",
     "output_type": "stream",
     "text": [
      "     ┌───┐┌──────────────┐                          ┌───┐┌──────────────┐     »\n",
      "q_0: ┤ H ├┤ Rz(theta[0]) ├──■────────────────────■──┤ H ├┤ Rz(theta[0]) ├─────»\n",
      "     ├───┤├──────────────┤┌─┴─┐┌──────────────┐┌─┴─┐└───┘└──────────────┘     »\n",
      "q_1: ┤ H ├┤ Rz(theta[1]) ├┤ X ├┤ Rz(theta[4]) ├┤ X ├──■────────────────────■──»\n",
      "     ├───┤├──────────────┤└───┘└──────────────┘└───┘┌─┴─┐┌──────────────┐┌─┴─┐»\n",
      "q_2: ┤ H ├┤ Rz(theta[2]) ├──■────────────────────■──┤ X ├┤ Rz(theta[6]) ├┤ X ├»\n",
      "     ├───┤├──────────────┤┌─┴─┐┌──────────────┐┌─┴─┐├───┤├──────────────┤└───┘»\n",
      "q_3: ┤ H ├┤ Rz(theta[3]) ├┤ X ├┤ Rz(theta[5]) ├┤ X ├┤ H ├┤ Rz(theta[3]) ├─────»\n",
      "     └───┘└──────────────┘└───┘└──────────────┘└───┘└───┘└──────────────┘     »\n",
      "«                                                    ┌───┐┌──────────────┐     »\n",
      "«q_0: ───────────────────────■────────────────────■──┤ H ├┤ Rz(theta[0]) ├─────»\n",
      "«     ┌───┐┌──────────────┐┌─┴─┐┌──────────────┐┌─┴─┐└───┘└──────────────┘     »\n",
      "«q_1: ┤ H ├┤ Rz(theta[1]) ├┤ X ├┤ Rz(theta[4]) ├┤ X ├──■────────────────────■──»\n",
      "«     ├───┤├──────────────┤└───┘└──────────────┘└───┘┌─┴─┐┌──────────────┐┌─┴─┐»\n",
      "«q_2: ┤ H ├┤ Rz(theta[2]) ├──■────────────────────■──┤ X ├┤ Rz(theta[6]) ├┤ X ├»\n",
      "«     └───┘└──────────────┘┌─┴─┐┌──────────────┐┌─┴─┐├───┤├──────────────┤└───┘»\n",
      "«q_3: ─────────────────────┤ X ├┤ Rz(theta[5]) ├┤ X ├┤ H ├┤ Rz(theta[3]) ├─────»\n",
      "«                          └───┘└──────────────┘└───┘└───┘└──────────────┘     »\n",
      "«                                                                              \n",
      "«q_0: ───────────────────────■────────────────────■────────────────────────────\n",
      "«     ┌───┐┌──────────────┐┌─┴─┐┌──────────────┐┌─┴─┐                          \n",
      "«q_1: ┤ H ├┤ Rz(theta[1]) ├┤ X ├┤ Rz(theta[4]) ├┤ X ├──■────────────────────■──\n",
      "«     ├───┤├──────────────┤└───┘└──────────────┘└───┘┌─┴─┐┌──────────────┐┌─┴─┐\n",
      "«q_2: ┤ H ├┤ Rz(theta[2]) ├──■────────────────────■──┤ X ├┤ Rz(theta[6]) ├┤ X ├\n",
      "«     └───┘└──────────────┘┌─┴─┐┌──────────────┐┌─┴─┐└───┘└──────────────┘└───┘\n",
      "«q_3: ─────────────────────┤ X ├┤ Rz(theta[5]) ├┤ X ├──────────────────────────\n",
      "«                          └───┘└──────────────┘└───┘                          \n",
      "Accuracy with 3 layers: 0.9                   \n",
      "\n",
      "     ┌───┐┌──────────────┐                                                    \n",
      "q_0: ┤ H ├┤ Rz(theta[0]) ├──■────────────────────■────────────────────────────\n",
      "     ├───┤├──────────────┤┌─┴─┐┌──────────────┐┌─┴─┐                          \n",
      "q_1: ┤ H ├┤ Rz(theta[1]) ├┤ X ├┤ Rz(theta[4]) ├┤ X ├──■────────────────────■──\n",
      "     ├───┤├──────────────┤└───┘└──────────────┘└───┘┌─┴─┐┌──────────────┐┌─┴─┐\n",
      "q_2: ┤ H ├┤ Rz(theta[2]) ├──■────────────────────■──┤ X ├┤ Rz(theta[6]) ├┤ X ├\n",
      "     ├───┤├──────────────┤┌─┴─┐┌──────────────┐┌─┴─┐└───┘└──────────────┘└───┘\n",
      "q_3: ┤ H ├┤ Rz(theta[3]) ├┤ X ├┤ Rz(theta[5]) ├┤ X ├──────────────────────────\n",
      "     └───┘└──────────────┘└───┘└──────────────┘└───┘                          \n",
      "Accuracy with 1 layer: 0.9666666666666667     \n",
      "\n"
     ]
    }
   ],
   "source": [
    "# Try three layers\n",
    "versicolor_svm = QuantumSVM(num_layers=3)\n",
    "print(versicolor_svm.ansatz.draw())\n",
    "versicolor_svm.train(X_train, Y_train_versicolor)\n",
    "Y_predicted_versicolor = versicolor_svm.predict(X_test)\n",
    "accuracy3 = np.mean(Y_test_versicolor == Y_predicted_versicolor)\n",
    "print(f'Accuracy with 3 layers: {accuracy3}\\n')\n",
    "\n",
    "# Try one layer\n",
    "versicolor_svm = QuantumSVM(num_layers=1)\n",
    "print(versicolor_svm.ansatz.draw())\n",
    "versicolor_svm.train(X_train, Y_train_versicolor)\n",
    "Y_predicted_versicolor = versicolor_svm.predict(X_test)\n",
    "accuracy1 = np.mean(Y_test_versicolor == Y_predicted_versicolor)\n",
    "print(f'Accuracy with 1 layer: {accuracy1}\\n')"
   ]
  },
  {
   "attachments": {},
   "cell_type": "markdown",
   "metadata": {},
   "source": [
    "Note that more layers is not always better."
   ]
  },
  {
   "attachments": {},
   "cell_type": "markdown",
   "metadata": {},
   "source": [
    "### Changing the sampler\n",
    "\n",
    "By default, QuantumSVM uses the sampler primitive `qiskit.primitives.Sampler` to run circuits that estimate kernel entries. This uses a local simulator. To customize the sampler primitive used we can pass a sampler object as an argument `sampler=` when initializing the QuantumSVM. This allows us, for example, to run the circuit on an IBM backend using Qiskit Runtime, if we desire.\n",
    "\n",
    "Let's demonstrate this by running the circuits on IBM's `'simulator_statevector'` simulator backend over the cloud. This will require an IBM Quantum account. Specifically it will require an IBM Quantum API token. First we set up a Qiskit Runtime Service:"
   ]
  },
  {
   "cell_type": "code",
   "execution_count": null,
   "metadata": {},
   "outputs": [],
   "source": [
    "from qiskit_ibm_runtime import Session, QiskitRuntimeService, Sampler\n",
    "\n",
    "# replace 'MY_IBM_QUANTUM_TOKEN' with your own IBM Quantum API token\n",
    "service = QiskitRuntimeService(channel='ibm_quantum')#, token='MY_IBM_QUANTUM_TOKEN')"
   ]
  },
  {
   "attachments": {},
   "cell_type": "markdown",
   "metadata": {},
   "source": [
    "Now we build and use the SVM in the context of a Qiskit Runtime\n",
    "session. (This may take some minutes depending on the queue!)"
   ]
  },
  {
   "cell_type": "code",
   "execution_count": 14,
   "metadata": {},
   "outputs": [
    {
     "name": "stdout",
     "output_type": "stream",
     "text": [
      "Job completed                                 \n",
      "Classified setosa versus non-setosa with accuracy 1.0\n"
     ]
    }
   ],
   "source": [
    "backend = service.get_backend('simulator_statevector')\n",
    "\n",
    "with Session(service=service, backend=backend) as session:\n",
    "    \n",
    "    sampler = Sampler(session=session, options={'execution': {'shots': 1e4}})\n",
    "    \n",
    "    setosa_svm = QuantumSVM(sampler=sampler)\n",
    "    setosa_svm.train(X_train, Y_train_setosa)\n",
    "    Y_predicted_setosa = setosa_svm.predict(X_test)\n",
    "\n",
    "    accuracy = np.mean(Y_predicted_setosa == Y_test_setosa)\n",
    "    print(f'\\nClassified setosa versus non-setosa with accuracy {accuracy}')"
   ]
  },
  {
   "attachments": {},
   "cell_type": "markdown",
   "metadata": {},
   "source": [
    "We can execute the circuits on a real quantum device by changing the backend from 'simulator_statevector' to, e.g. 'ibmq_manila' or some other IBM device."
   ]
  },
  {
   "attachments": {},
   "cell_type": "markdown",
   "metadata": {},
   "source": [
    "# Three-way classification\n",
    "\n",
    "To classify a datapoint, the SVM assigns it a score whose sign represents which side of the decision boundary the datapoint is on and whose magnitude represents\n",
    "the datapoint's distance from the decision boundary in feature-space. By default\n",
    "the `.predict()` method returns 1 or -1 depending on the sign of this score.\n",
    "We can get the raw score itself by setting `score=True`. To perform a three-way\n",
    "classification we can build an SVM for each of the three classes and the choose the class based on which SVM gives the highest score."
   ]
  },
  {
   "cell_type": "code",
   "execution_count": 45,
   "metadata": {},
   "outputs": [
    {
     "name": "stdout",
     "output_type": "stream",
     "text": [
      "The accuracy for three-way classification is 0.9666666666666667\n"
     ]
    }
   ],
   "source": [
    "# Make an SVM for each class\n",
    "setosa_svm = QuantumSVM()\n",
    "versicolor_svm = QuantumSVM()\n",
    "virginica_svm = QuantumSVM()\n",
    "\n",
    "# Get scores from each SVM\n",
    "setosa_svm.train(X_train, Y_train_setosa)\n",
    "Y_predicted_setosa = setosa_svm.predict(X_test, score=True)\n",
    "\n",
    "Y_train_versicolor = np.array([1 if y == 'Iris-versicolor' else -1 for y in Y_train])\n",
    "versicolor_svm.train(X_train, Y_train_versicolor)\n",
    "Y_predicted_versicolor = versicolor_svm.predict(X_test, score=True)\n",
    "\n",
    "Y_train_virginica = np.array([1 if y == 'Iris-virginica' else -1 for y in Y_train])\n",
    "virginica_svm.train(X_train, Y_train_virginica)\n",
    "Y_predicted_virginica = virginica_svm.predict(X_test, score=True)\n",
    "\n",
    "scores = np.column_stack((\n",
    "    Y_predicted_setosa,\n",
    "    Y_predicted_versicolor,\n",
    "    Y_predicted_virginica\n",
    "))\n",
    "\n",
    "# Get name of highest-scoring class for each test datapoint\n",
    "classes = np.array(['Iris-setosa', 'Iris-versicolor', 'Iris-virginica'])\n",
    "Y_predicted = classes[np.argmax(scores, axis=1)]\n",
    "\n",
    "accuracy = np.mean(Y_predicted == Y_test)\n",
    "print(f'The accuracy for three-way classification is {accuracy}')\n"
   ]
  },
  {
   "attachments": {},
   "cell_type": "markdown",
   "metadata": {},
   "source": [
    "# Optimizing circuit depth\n",
    "\n",
    "For the iris data, the 4 qubits 2 layer default circuit of QuantumSVM is a bit overkill. The iris data is nearly linearly separable. (In fact, the setosa cluster *is* linearly separable from the other two.) This suggests that we might not need a particularly complicated kernel function.\n",
    "\n",
    "To that end, let's consider the very simple 4-qubit circuit consisting of one layer of Hadamards followed by single-qubit Z rotation gates, one for each dimension in the data. The rotation angles will be $\\theta_i = 2\\pi x_i$ for each datapoint $(x_0, x_1, x_2, x_3)$. We can use the keyword arguments of QuantumSVM to build an SVM with this as its feature-map circuit:"
   ]
  },
  {
   "cell_type": "code",
   "execution_count": 46,
   "metadata": {},
   "outputs": [
    {
     "name": "stdout",
     "output_type": "stream",
     "text": [
      "     ┌───┐┌──────────────┐\n",
      "q_0: ┤ H ├┤ Rz(theta[0]) ├\n",
      "     ├───┤├──────────────┤\n",
      "q_1: ┤ H ├┤ Rz(theta[1]) ├\n",
      "     ├───┤├──────────────┤\n",
      "q_2: ┤ H ├┤ Rz(theta[2]) ├\n",
      "     ├───┤├──────────────┤\n",
      "q_3: ┤ H ├┤ Rz(theta[3]) ├\n",
      "     └───┘└──────────────┘\n"
     ]
    }
   ],
   "source": [
    "diagonal_gates = [[0], [1], [2], [3]]\n",
    "\n",
    "def parameter_map(x):\n",
    "    return 2*np.pi*x\n",
    "\n",
    "simple_svm = QuantumSVM(\n",
    "    diagonal_gates=diagonal_gates,\n",
    "    parameter_map=parameter_map,\n",
    "    num_layers=1\n",
    ")\n",
    "\n",
    "print(simple_svm.ansatz.draw())"
   ]
  },
  {
   "attachments": {},
   "cell_type": "markdown",
   "metadata": {},
   "source": [
    "Of course, inner products of states prepared by circuits of this form are easily calculated classically, obviating the need for a quantum computer. But we will continue for the purpose of demonstration.\n",
    "\n",
    "Let's use SVMs with this simple feature map circuit to do three-way classification:"
   ]
  },
  {
   "cell_type": "code",
   "execution_count": 47,
   "metadata": {},
   "outputs": [
    {
     "name": "stdout",
     "output_type": "stream",
     "text": [
      "The accuracy is 0.9333333333333333            \n"
     ]
    }
   ],
   "source": [
    "diagonal_gates = [[0], [1], [2], [3]]\n",
    "\n",
    "def parameter_map(x):\n",
    "    return 2*np.pi*x\n",
    "\n",
    "regularizer = 0.25\n",
    "\n",
    "setosa_svm = QuantumSVM(\n",
    "    diagonal_gates=diagonal_gates,\n",
    "    parameter_map=parameter_map,\n",
    "    num_layers=1\n",
    ")\n",
    "setosa_svm.train(X_train, Y_train_setosa, regularizer=regularizer)\n",
    "Y_predicted_setosa = setosa_svm.predict(X_test, score=True)\n",
    "\n",
    "versicolor_svm = QuantumSVM(\n",
    "    diagonal_gates=diagonal_gates,\n",
    "    parameter_map=parameter_map,\n",
    "    num_layers=1\n",
    ")\n",
    "versicolor_svm.train(X_train, Y_train_versicolor, regularizer=regularizer)\n",
    "Y_predicted_versicolor = versicolor_svm.predict(X_test, score=True)\n",
    "\n",
    "virginica_svm = QuantumSVM(\n",
    "    diagonal_gates=diagonal_gates,\n",
    "    parameter_map=parameter_map,\n",
    "    num_layers=1\n",
    ")\n",
    "virginica_svm.train(X_train, Y_train_virginica, regularizer=regularizer)\n",
    "Y_predicted_virginica = virginica_svm.predict(X_test, score=True)\n",
    "\n",
    "scores = np.column_stack((\n",
    "    Y_predicted_setosa,\n",
    "    Y_predicted_versicolor,\n",
    "    Y_predicted_virginica\n",
    "))\n",
    "\n",
    "# Get name of highest-scoring class for each test datapoint\n",
    "classes = np.array(['Iris-setosa', 'Iris-versicolor', 'Iris-virginica'])\n",
    "Y_predicted = classes[np.argmax(scores, axis=1)]\n",
    "\n",
    "accuracy = np.mean(Y_predicted == Y_test)\n",
    "print(f'The accuracy is {accuracy}')"
   ]
  },
  {
   "attachments": {},
   "cell_type": "markdown",
   "metadata": {},
   "source": [
    "We see this does not do much worse than the more complicated circuits we've tried above."
   ]
  }
 ],
 "metadata": {
  "kernelspec": {
   "display_name": "quantum",
   "language": "python",
   "name": "python3"
  },
  "language_info": {
   "codemirror_mode": {
    "name": "ipython",
    "version": 3
   },
   "file_extension": ".py",
   "mimetype": "text/x-python",
   "name": "python",
   "nbconvert_exporter": "python",
   "pygments_lexer": "ipython3",
   "version": "3.10.9"
  },
  "orig_nbformat": 4,
  "vscode": {
   "interpreter": {
    "hash": "b252ef7631f9bbef272d96607829b42e5fb997d83f6415002b0b72695189c301"
   }
  }
 },
 "nbformat": 4,
 "nbformat_minor": 2
}
